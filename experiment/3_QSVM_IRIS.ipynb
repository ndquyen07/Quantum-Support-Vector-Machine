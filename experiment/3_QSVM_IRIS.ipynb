{
 "cells": [
  {
   "cell_type": "markdown",
   "id": "8770dc12",
   "metadata": {},
   "source": [
    "## 1. Load data"
   ]
  },
  {
   "cell_type": "code",
   "execution_count": 14,
   "id": "5352fe63",
   "metadata": {},
   "outputs": [
    {
     "name": "stdout",
     "output_type": "stream",
     "text": [
      "Training X shape: (64, 4), y shape: (64,)\n",
      "Testing X shape: (36, 4), y shape: (36,)\n"
     ]
    }
   ],
   "source": [
    "import numpy as np\n",
    "\n",
    "# Load npz\n",
    "data = np.load(\"../data/iris_data.npz\")\n",
    "\n",
    "X_train = data['X_train']\n",
    "y_train = data['y_train']\n",
    "X_test = data['X_test']\n",
    "y_test = data['y_test']\n",
    "\n",
    "print(f\"Training X shape: {X_train.shape}, y shape: {y_train.shape}\")\n",
    "print(f\"Testing X shape: {X_test.shape}, y shape: {y_test.shape}\")"
   ]
  },
  {
   "cell_type": "code",
   "execution_count": 15,
   "id": "f13ab69c",
   "metadata": {},
   "outputs": [
    {
     "name": "stdout",
     "output_type": "stream",
     "text": [
      "[-1 -1 -1 -1 -1 -1 -1 -1 -1 -1 -1 -1 -1 -1 -1 -1 -1 -1  1  1  1  1  1  1\n",
      "  1  1  1  1  1  1  1  1  1  1  1  1]\n"
     ]
    }
   ],
   "source": [
    "print(y_test)"
   ]
  },
  {
   "cell_type": "markdown",
   "id": "b8ace88c",
   "metadata": {},
   "source": [
    "## 2. Load Trainable Quantum Feature Map"
   ]
  },
  {
   "cell_type": "code",
   "execution_count": 16,
   "id": "a6e273fc",
   "metadata": {},
   "outputs": [],
   "source": [
    "#!/usr/bin/env python3\n",
    "import sys\n",
    "import os\n",
    "sys.path.append(os.path.join(os.path.dirname(os.getcwd())))"
   ]
  },
  {
   "cell_type": "code",
   "execution_count": 17,
   "id": "004fcf13",
   "metadata": {},
   "outputs": [],
   "source": [
    "import pickle\n",
    "\n",
    "with open(f\"../data/tqfm_depth1_iris.pkl\", \"rb\") as f:\n",
    "\ttqfm = pickle.load(f)\n",
    "\n"
   ]
  },
  {
   "cell_type": "markdown",
   "id": "7839cf0c",
   "metadata": {},
   "source": [
    "## 3. Load Kernel"
   ]
  },
  {
   "cell_type": "code",
   "execution_count": 18,
   "id": "6ccf7050",
   "metadata": {},
   "outputs": [],
   "source": [
    "kernel = np.load(\"../data/kernel_matrix_after_iris.npy\")"
   ]
  },
  {
   "cell_type": "markdown",
   "id": "6347f000",
   "metadata": {},
   "source": [
    "## 3. Quantum Support Vector Machine"
   ]
  },
  {
   "cell_type": "code",
   "execution_count": 19,
   "id": "86b65ffc",
   "metadata": {},
   "outputs": [
    {
     "data": {
      "text/plain": [
       "<module 'src.qsvm' from 'd:\\\\QuantumComputing\\\\SVQSVM\\\\src\\\\qsvm.py'>"
      ]
     },
     "execution_count": 19,
     "metadata": {},
     "output_type": "execute_result"
    }
   ],
   "source": [
    "# update last change\n",
    "import importlib\n",
    "import src.qsvm\n",
    "importlib.reload(src.qsvm)"
   ]
  },
  {
   "cell_type": "code",
   "execution_count": 20,
   "id": "d1e9a1b9",
   "metadata": {},
   "outputs": [
    {
     "name": "stdout",
     "output_type": "stream",
     "text": [
      "Using random initialization with 3 parameters\n",
      "Test accuracy: 61.11%\n"
     ]
    }
   ],
   "source": [
    "from src.qsvm import QSVC\n",
    "\n",
    "qsvc = QSVC(C=1.0, gamma=1.0, optimizer='COBYLA', max_iter=100)\n",
    "qsvc.fit(X=X_train,\n",
    "\ty=y_train,\n",
    "\tkernel_matrix=kernel,\n",
    "\ttheta_optimal=tqfm.optimal_params,\n",
    "\tparametrized_circuit=tqfm.circuit)\n",
    "\n",
    "accuracy = qsvc.score(X_test, y_test)\n",
    "print(f\"Test accuracy: {accuracy * 100:.2f}%\")\n"
   ]
  },
  {
   "cell_type": "markdown",
   "id": "6de0f9a5",
   "metadata": {},
   "source": [
    "## 4. Test accuracy with classical SVM"
   ]
  },
  {
   "cell_type": "code",
   "execution_count": 21,
   "id": "9034920f",
   "metadata": {},
   "outputs": [],
   "source": [
    "kernel_test = np.load(\"../data/kernel_matrix_test_iris.npy\")"
   ]
  },
  {
   "cell_type": "code",
   "execution_count": 22,
   "id": "6af86ad0",
   "metadata": {},
   "outputs": [
    {
     "name": "stdout",
     "output_type": "stream",
     "text": [
      "Classical SVC Test accuracy with C=0.1, gamma=0.1: 94.44%\n",
      "Classical SVC Test accuracy with C=0.1, gamma=1.0: 94.44%\n",
      "Classical SVC Test accuracy with C=0.1, gamma=10.0: 94.44%\n",
      "Classical SVC Test accuracy with C=0.1, gamma=100.0: 94.44%\n",
      "Classical SVC Test accuracy with C=1.0, gamma=0.1: 94.44%\n",
      "Classical SVC Test accuracy with C=1.0, gamma=1.0: 94.44%\n",
      "Classical SVC Test accuracy with C=1.0, gamma=10.0: 94.44%\n",
      "Classical SVC Test accuracy with C=1.0, gamma=100.0: 94.44%\n",
      "Classical SVC Test accuracy with C=10.0, gamma=0.1: 91.67%\n",
      "Classical SVC Test accuracy with C=10.0, gamma=1.0: 91.67%\n",
      "Classical SVC Test accuracy with C=10.0, gamma=10.0: 91.67%\n",
      "Classical SVC Test accuracy with C=10.0, gamma=100.0: 91.67%\n",
      "Classical SVC Test accuracy with C=100.0, gamma=0.1: 91.67%\n",
      "Classical SVC Test accuracy with C=100.0, gamma=1.0: 91.67%\n",
      "Classical SVC Test accuracy with C=100.0, gamma=10.0: 91.67%\n",
      "Classical SVC Test accuracy with C=100.0, gamma=100.0: 91.67%\n"
     ]
    }
   ],
   "source": [
    "from sklearn.svm import SVC\n",
    "\n",
    "C = [0.1, 1.0, 10.0, 100.0]\n",
    "gamma = [0.1, 1.0, 10.0, 100.0]\n",
    "\n",
    "for c in C:\n",
    "\tfor g in gamma:\n",
    "\t\t# Classical SVC with RBF kernel\n",
    "\t\tsvc = SVC(kernel='precomputed', C=c, gamma=g)\n",
    "\t\tsvc.fit(kernel, y_train)\n",
    "\t\taccuracy = svc.predict(kernel_test)\n",
    "\t\taccuracy_svc = np.mean(accuracy == y_test)\n",
    "\t\tprint(f\"Classical SVC Test accuracy with C={c}, gamma={g}: {accuracy_svc * 100:.2f}%\")\n"
   ]
  },
  {
   "cell_type": "code",
   "execution_count": 23,
   "id": "28aba6e4",
   "metadata": {},
   "outputs": [
    {
     "name": "stdout",
     "output_type": "stream",
     "text": [
      "Classical SVC Test accuracy with C=0.1, gamma=0.1: 94.44%\n",
      "Classical SVC Test accuracy with C=0.1, gamma=1.0: 97.22%\n",
      "Classical SVC Test accuracy with C=0.1, gamma=10.0: 61.11%\n",
      "Classical SVC Test accuracy with C=0.1, gamma=100.0: 50.00%\n",
      "Classical SVC Test accuracy with C=1.0, gamma=0.1: 94.44%\n",
      "Classical SVC Test accuracy with C=1.0, gamma=1.0: 97.22%\n",
      "Classical SVC Test accuracy with C=1.0, gamma=10.0: 94.44%\n",
      "Classical SVC Test accuracy with C=1.0, gamma=100.0: 50.00%\n",
      "Classical SVC Test accuracy with C=10.0, gamma=0.1: 97.22%\n",
      "Classical SVC Test accuracy with C=10.0, gamma=1.0: 100.00%\n",
      "Classical SVC Test accuracy with C=10.0, gamma=10.0: 97.22%\n",
      "Classical SVC Test accuracy with C=10.0, gamma=100.0: 50.00%\n",
      "Classical SVC Test accuracy with C=100.0, gamma=0.1: 91.67%\n",
      "Classical SVC Test accuracy with C=100.0, gamma=1.0: 100.00%\n",
      "Classical SVC Test accuracy with C=100.0, gamma=10.0: 97.22%\n",
      "Classical SVC Test accuracy with C=100.0, gamma=100.0: 50.00%\n"
     ]
    }
   ],
   "source": [
    "from sklearn.svm import SVC\n",
    "\n",
    "C = [0.1, 1.0, 10.0, 100.0]\n",
    "gamma = [0.1, 1.0, 10.0, 100.0]\n",
    "\n",
    "for c in C:\n",
    "\tfor g in gamma:\n",
    "\t\t# Classical SVC with RBF kernel\n",
    "\t\tsvc = SVC(kernel='rbf', C=c, gamma=g)\n",
    "\t\tsvc.fit(X_train, y_train)\n",
    "\t\taccuracy_svc = svc.score(X_test, y_test)\n",
    "\t\tprint(f\"Classical SVC Test accuracy with C={c}, gamma={g}: {accuracy_svc * 100:.2f}%\")\n"
   ]
  }
 ],
 "metadata": {
  "kernelspec": {
   "display_name": "SVQSVM",
   "language": "python",
   "name": "python3"
  },
  "language_info": {
   "codemirror_mode": {
    "name": "ipython",
    "version": 3
   },
   "file_extension": ".py",
   "mimetype": "text/x-python",
   "name": "python",
   "nbconvert_exporter": "python",
   "pygments_lexer": "ipython3",
   "version": "3.12.9"
  }
 },
 "nbformat": 4,
 "nbformat_minor": 5
}
